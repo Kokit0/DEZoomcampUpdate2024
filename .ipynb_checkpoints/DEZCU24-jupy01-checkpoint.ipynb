{
 "cells": [
  {
   "cell_type": "code",
   "execution_count": 2,
   "id": "2ca57c58-70ed-481c-a65d-c127fb6bcd38",
   "metadata": {},
   "outputs": [
    {
     "name": "stdout",
     "output_type": "stream",
     "text": [
      "Hola Python!\n"
     ]
    }
   ],
   "source": [
    "print (\"Hola Python!\")"
   ]
  },
  {
   "cell_type": "code",
   "execution_count": null,
   "id": "515d4e10-22e4-4857-baf7-00476c789c18",
   "metadata": {},
   "outputs": [],
   "source": []
  }
 ],
 "metadata": {
  "kernelspec": {
   "display_name": "Python 3 (ipykernel)",
   "language": "python",
   "name": "python3"
  },
  "language_info": {
   "codemirror_mode": {
    "name": "ipython",
    "version": 3
   },
   "file_extension": ".py",
   "mimetype": "text/x-python",
   "name": "python",
   "nbconvert_exporter": "python",
   "pygments_lexer": "ipython3",
   "version": "3.12.1"
  }
 },
 "nbformat": 4,
 "nbformat_minor": 5
}
